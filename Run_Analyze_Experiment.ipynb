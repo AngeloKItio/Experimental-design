{
 "cells": [
  {
   "cell_type": "markdown",
   "id": "6a236363",
   "metadata": {},
   "source": [
    "# <center>Run, analyze, and write up your experiment results</center>\n",
    "\n",
    " "
   ]
  },
  {
   "cell_type": "markdown",
   "id": "9a1cf8a3",
   "metadata": {},
   "source": [
    "### Import packages"
   ]
  },
  {
   "cell_type": "code",
   "execution_count": 1,
   "id": "062d0155",
   "metadata": {},
   "outputs": [],
   "source": [
    "%matplotlib inline\n",
    "import math\n",
    "import pandas as pd\n",
    "import numpy as np\n",
    "from scipy import stats\n",
    "import matplotlib.pyplot as plt\n",
    "from scipy import stats"
   ]
  },
  {
   "cell_type": "markdown",
   "id": "aef5e36d",
   "metadata": {},
   "source": [
    "### Load and visualize the dataset"
   ]
  },
  {
   "cell_type": "code",
   "execution_count": 2,
   "id": "5a8bac74",
   "metadata": {},
   "outputs": [],
   "source": [
    "undergrad_data=pd.read_csv(\"/home/angelo/Desktop/THINKFUL DATA SCIENCE FLEX/Graded Assignment/Capstone 1/nces330_20.csv\")"
   ]
  },
  {
   "cell_type": "code",
   "execution_count": null,
   "id": "9c37120c",
   "metadata": {},
   "outputs": [],
   "source": []
  },
  {
   "cell_type": "code",
   "execution_count": 3,
   "id": "8d519ae0",
   "metadata": {},
   "outputs": [
    {
     "name": "stdout",
     "output_type": "stream",
     "text": [
      "<class 'pandas.core.frame.DataFrame'>\n",
      "RangeIndex: 3548 entries, 0 to 3547\n",
      "Data columns (total 6 columns):\n",
      " #   Column   Non-Null Count  Dtype \n",
      "---  ------   --------------  ----- \n",
      " 0   Year     3548 non-null   int64 \n",
      " 1   State    3548 non-null   object\n",
      " 2   Type     3548 non-null   object\n",
      " 3   Length   3548 non-null   object\n",
      " 4   Expense  3548 non-null   object\n",
      " 5   Value    3548 non-null   int64 \n",
      "dtypes: int64(2), object(4)\n",
      "memory usage: 166.4+ KB\n"
     ]
    },
    {
     "data": {
      "text/html": [
       "<div>\n",
       "<style scoped>\n",
       "    .dataframe tbody tr th:only-of-type {\n",
       "        vertical-align: middle;\n",
       "    }\n",
       "\n",
       "    .dataframe tbody tr th {\n",
       "        vertical-align: top;\n",
       "    }\n",
       "\n",
       "    .dataframe thead th {\n",
       "        text-align: right;\n",
       "    }\n",
       "</style>\n",
       "<table border=\"1\" class=\"dataframe\">\n",
       "  <thead>\n",
       "    <tr style=\"text-align: right;\">\n",
       "      <th></th>\n",
       "      <th>Year</th>\n",
       "      <th>State</th>\n",
       "      <th>Type</th>\n",
       "      <th>Length</th>\n",
       "      <th>Expense</th>\n",
       "      <th>Value</th>\n",
       "    </tr>\n",
       "  </thead>\n",
       "  <tbody>\n",
       "    <tr>\n",
       "      <th>0</th>\n",
       "      <td>2013</td>\n",
       "      <td>Alabama</td>\n",
       "      <td>Private</td>\n",
       "      <td>4-year</td>\n",
       "      <td>Fees/Tuition</td>\n",
       "      <td>13983</td>\n",
       "    </tr>\n",
       "    <tr>\n",
       "      <th>1</th>\n",
       "      <td>2013</td>\n",
       "      <td>Alabama</td>\n",
       "      <td>Private</td>\n",
       "      <td>4-year</td>\n",
       "      <td>Room/Board</td>\n",
       "      <td>8503</td>\n",
       "    </tr>\n",
       "    <tr>\n",
       "      <th>2</th>\n",
       "      <td>2013</td>\n",
       "      <td>Alabama</td>\n",
       "      <td>Public In-State</td>\n",
       "      <td>2-year</td>\n",
       "      <td>Fees/Tuition</td>\n",
       "      <td>4048</td>\n",
       "    </tr>\n",
       "    <tr>\n",
       "      <th>3</th>\n",
       "      <td>2013</td>\n",
       "      <td>Alabama</td>\n",
       "      <td>Public In-State</td>\n",
       "      <td>4-year</td>\n",
       "      <td>Fees/Tuition</td>\n",
       "      <td>8073</td>\n",
       "    </tr>\n",
       "    <tr>\n",
       "      <th>4</th>\n",
       "      <td>2013</td>\n",
       "      <td>Alabama</td>\n",
       "      <td>Public In-State</td>\n",
       "      <td>4-year</td>\n",
       "      <td>Room/Board</td>\n",
       "      <td>8473</td>\n",
       "    </tr>\n",
       "    <tr>\n",
       "      <th>5</th>\n",
       "      <td>2013</td>\n",
       "      <td>Alabama</td>\n",
       "      <td>Public Out-of-State</td>\n",
       "      <td>2-year</td>\n",
       "      <td>Fees/Tuition</td>\n",
       "      <td>7736</td>\n",
       "    </tr>\n",
       "    <tr>\n",
       "      <th>6</th>\n",
       "      <td>2013</td>\n",
       "      <td>Alabama</td>\n",
       "      <td>Public Out-of-State</td>\n",
       "      <td>4-year</td>\n",
       "      <td>Fees/Tuition</td>\n",
       "      <td>20380</td>\n",
       "    </tr>\n",
       "    <tr>\n",
       "      <th>7</th>\n",
       "      <td>2013</td>\n",
       "      <td>Alabama</td>\n",
       "      <td>Public Out-of-State</td>\n",
       "      <td>4-year</td>\n",
       "      <td>Room/Board</td>\n",
       "      <td>8473</td>\n",
       "    </tr>\n",
       "    <tr>\n",
       "      <th>8</th>\n",
       "      <td>2013</td>\n",
       "      <td>Alaska</td>\n",
       "      <td>Private</td>\n",
       "      <td>4-year</td>\n",
       "      <td>Fees/Tuition</td>\n",
       "      <td>21496</td>\n",
       "    </tr>\n",
       "    <tr>\n",
       "      <th>9</th>\n",
       "      <td>2013</td>\n",
       "      <td>Alaska</td>\n",
       "      <td>Private</td>\n",
       "      <td>4-year</td>\n",
       "      <td>Room/Board</td>\n",
       "      <td>8923</td>\n",
       "    </tr>\n",
       "  </tbody>\n",
       "</table>\n",
       "</div>"
      ],
      "text/plain": [
       "   Year    State                 Type  Length       Expense  Value\n",
       "0  2013  Alabama              Private  4-year  Fees/Tuition  13983\n",
       "1  2013  Alabama              Private  4-year    Room/Board   8503\n",
       "2  2013  Alabama      Public In-State  2-year  Fees/Tuition   4048\n",
       "3  2013  Alabama      Public In-State  4-year  Fees/Tuition   8073\n",
       "4  2013  Alabama      Public In-State  4-year    Room/Board   8473\n",
       "5  2013  Alabama  Public Out-of-State  2-year  Fees/Tuition   7736\n",
       "6  2013  Alabama  Public Out-of-State  4-year  Fees/Tuition  20380\n",
       "7  2013  Alabama  Public Out-of-State  4-year    Room/Board   8473\n",
       "8  2013   Alaska              Private  4-year  Fees/Tuition  21496\n",
       "9  2013   Alaska              Private  4-year    Room/Board   8923"
      ]
     },
     "execution_count": 3,
     "metadata": {},
     "output_type": "execute_result"
    }
   ],
   "source": [
    "undergrad_data.info()\n",
    "undergrad_data.head(10)"
   ]
  },
  {
   "cell_type": "markdown",
   "id": "baafb0fe",
   "metadata": {},
   "source": [
    "### Data set that only includes records with \"Fees/Tuition\""
   ]
  },
  {
   "cell_type": "code",
   "execution_count": 4,
   "id": "15043b5f",
   "metadata": {},
   "outputs": [],
   "source": [
    "data=undergrad_data[undergrad_data[\"Expense\"]=='Fees/Tuition']"
   ]
  },
  {
   "cell_type": "markdown",
   "id": "cbc5f86f",
   "metadata": {},
   "source": [
    "#### How many entries for each type of universities?"
   ]
  },
  {
   "cell_type": "code",
   "execution_count": 5,
   "id": "b6290d4d",
   "metadata": {},
   "outputs": [
    {
     "data": {
      "text/html": [
       "<div>\n",
       "<style scoped>\n",
       "    .dataframe tbody tr th:only-of-type {\n",
       "        vertical-align: middle;\n",
       "    }\n",
       "\n",
       "    .dataframe tbody tr th {\n",
       "        vertical-align: top;\n",
       "    }\n",
       "\n",
       "    .dataframe thead tr th {\n",
       "        text-align: left;\n",
       "    }\n",
       "\n",
       "    .dataframe thead tr:last-of-type th {\n",
       "        text-align: right;\n",
       "    }\n",
       "</style>\n",
       "<table border=\"1\" class=\"dataframe\">\n",
       "  <thead>\n",
       "    <tr>\n",
       "      <th></th>\n",
       "      <th>Year</th>\n",
       "      <th>State</th>\n",
       "      <th>Length</th>\n",
       "      <th>Expense</th>\n",
       "      <th>Value</th>\n",
       "    </tr>\n",
       "    <tr>\n",
       "      <th></th>\n",
       "      <th>count</th>\n",
       "      <th>count</th>\n",
       "      <th>count</th>\n",
       "      <th>count</th>\n",
       "      <th>count</th>\n",
       "    </tr>\n",
       "    <tr>\n",
       "      <th>Type</th>\n",
       "      <th></th>\n",
       "      <th></th>\n",
       "      <th></th>\n",
       "      <th></th>\n",
       "      <th></th>\n",
       "    </tr>\n",
       "  </thead>\n",
       "  <tbody>\n",
       "    <tr>\n",
       "      <th>Private</th>\n",
       "      <td>455</td>\n",
       "      <td>455</td>\n",
       "      <td>455</td>\n",
       "      <td>455</td>\n",
       "      <td>455</td>\n",
       "    </tr>\n",
       "    <tr>\n",
       "      <th>Public In-State</th>\n",
       "      <td>846</td>\n",
       "      <td>846</td>\n",
       "      <td>846</td>\n",
       "      <td>846</td>\n",
       "      <td>846</td>\n",
       "    </tr>\n",
       "    <tr>\n",
       "      <th>Public Out-of-State</th>\n",
       "      <td>897</td>\n",
       "      <td>897</td>\n",
       "      <td>897</td>\n",
       "      <td>897</td>\n",
       "      <td>897</td>\n",
       "    </tr>\n",
       "  </tbody>\n",
       "</table>\n",
       "</div>"
      ],
      "text/plain": [
       "                     Year State Length Expense Value\n",
       "                    count count  count   count count\n",
       "Type                                                \n",
       "Private               455   455    455     455   455\n",
       "Public In-State       846   846    846     846   846\n",
       "Public Out-of-State   897   897    897     897   897"
      ]
     },
     "execution_count": 5,
     "metadata": {},
     "output_type": "execute_result"
    }
   ],
   "source": [
    "data.groupby('Type').agg(['count'])"
   ]
  },
  {
   "cell_type": "code",
   "execution_count": null,
   "id": "4216d515",
   "metadata": {},
   "outputs": [],
   "source": []
  },
  {
   "cell_type": "markdown",
   "id": "ae6637db",
   "metadata": {},
   "source": [
    "### In-state and Out-of-state data frames"
   ]
  },
  {
   "cell_type": "code",
   "execution_count": 6,
   "id": "319d9735",
   "metadata": {},
   "outputs": [],
   "source": [
    "In_state_data= data[data['Type']=='Public In-State']\n",
    "Out_of_state_data= data[data['Type']=='Public Out-of-State']"
   ]
  },
  {
   "cell_type": "code",
   "execution_count": 7,
   "id": "c7565787",
   "metadata": {},
   "outputs": [
    {
     "name": "stdout",
     "output_type": "stream",
     "text": [
      "<class 'pandas.core.frame.DataFrame'>\n",
      "Int64Index: 846 entries, 2 to 3543\n",
      "Data columns (total 6 columns):\n",
      " #   Column   Non-Null Count  Dtype \n",
      "---  ------   --------------  ----- \n",
      " 0   Year     846 non-null    int64 \n",
      " 1   State    846 non-null    object\n",
      " 2   Type     846 non-null    object\n",
      " 3   Length   846 non-null    object\n",
      " 4   Expense  846 non-null    object\n",
      " 5   Value    846 non-null    int64 \n",
      "dtypes: int64(2), object(4)\n",
      "memory usage: 46.3+ KB\n"
     ]
    },
    {
     "data": {
      "text/html": [
       "<div>\n",
       "<style scoped>\n",
       "    .dataframe tbody tr th:only-of-type {\n",
       "        vertical-align: middle;\n",
       "    }\n",
       "\n",
       "    .dataframe tbody tr th {\n",
       "        vertical-align: top;\n",
       "    }\n",
       "\n",
       "    .dataframe thead th {\n",
       "        text-align: right;\n",
       "    }\n",
       "</style>\n",
       "<table border=\"1\" class=\"dataframe\">\n",
       "  <thead>\n",
       "    <tr style=\"text-align: right;\">\n",
       "      <th></th>\n",
       "      <th>Year</th>\n",
       "      <th>State</th>\n",
       "      <th>Type</th>\n",
       "      <th>Length</th>\n",
       "      <th>Expense</th>\n",
       "      <th>Value</th>\n",
       "    </tr>\n",
       "  </thead>\n",
       "  <tbody>\n",
       "    <tr>\n",
       "      <th>2</th>\n",
       "      <td>2013</td>\n",
       "      <td>Alabama</td>\n",
       "      <td>Public In-State</td>\n",
       "      <td>2-year</td>\n",
       "      <td>Fees/Tuition</td>\n",
       "      <td>4048</td>\n",
       "    </tr>\n",
       "    <tr>\n",
       "      <th>3</th>\n",
       "      <td>2013</td>\n",
       "      <td>Alabama</td>\n",
       "      <td>Public In-State</td>\n",
       "      <td>4-year</td>\n",
       "      <td>Fees/Tuition</td>\n",
       "      <td>8073</td>\n",
       "    </tr>\n",
       "    <tr>\n",
       "      <th>10</th>\n",
       "      <td>2013</td>\n",
       "      <td>Alaska</td>\n",
       "      <td>Public In-State</td>\n",
       "      <td>2-year</td>\n",
       "      <td>Fees/Tuition</td>\n",
       "      <td>3972</td>\n",
       "    </tr>\n",
       "    <tr>\n",
       "      <th>11</th>\n",
       "      <td>2013</td>\n",
       "      <td>Alaska</td>\n",
       "      <td>Public In-State</td>\n",
       "      <td>4-year</td>\n",
       "      <td>Fees/Tuition</td>\n",
       "      <td>6317</td>\n",
       "    </tr>\n",
       "    <tr>\n",
       "      <th>18</th>\n",
       "      <td>2013</td>\n",
       "      <td>Arizona</td>\n",
       "      <td>Public In-State</td>\n",
       "      <td>2-year</td>\n",
       "      <td>Fees/Tuition</td>\n",
       "      <td>1842</td>\n",
       "    </tr>\n",
       "  </tbody>\n",
       "</table>\n",
       "</div>"
      ],
      "text/plain": [
       "    Year    State             Type  Length       Expense  Value\n",
       "2   2013  Alabama  Public In-State  2-year  Fees/Tuition   4048\n",
       "3   2013  Alabama  Public In-State  4-year  Fees/Tuition   8073\n",
       "10  2013   Alaska  Public In-State  2-year  Fees/Tuition   3972\n",
       "11  2013   Alaska  Public In-State  4-year  Fees/Tuition   6317\n",
       "18  2013  Arizona  Public In-State  2-year  Fees/Tuition   1842"
      ]
     },
     "execution_count": 7,
     "metadata": {},
     "output_type": "execute_result"
    }
   ],
   "source": [
    "In_state_data.info()\n",
    "In_state_data.head(5)"
   ]
  },
  {
   "cell_type": "code",
   "execution_count": 8,
   "id": "16f4eb87",
   "metadata": {},
   "outputs": [
    {
     "name": "stdout",
     "output_type": "stream",
     "text": [
      "<class 'pandas.core.frame.DataFrame'>\n",
      "Int64Index: 897 entries, 5 to 3546\n",
      "Data columns (total 6 columns):\n",
      " #   Column   Non-Null Count  Dtype \n",
      "---  ------   --------------  ----- \n",
      " 0   Year     897 non-null    int64 \n",
      " 1   State    897 non-null    object\n",
      " 2   Type     897 non-null    object\n",
      " 3   Length   897 non-null    object\n",
      " 4   Expense  897 non-null    object\n",
      " 5   Value    897 non-null    int64 \n",
      "dtypes: int64(2), object(4)\n",
      "memory usage: 49.1+ KB\n"
     ]
    },
    {
     "data": {
      "text/html": [
       "<div>\n",
       "<style scoped>\n",
       "    .dataframe tbody tr th:only-of-type {\n",
       "        vertical-align: middle;\n",
       "    }\n",
       "\n",
       "    .dataframe tbody tr th {\n",
       "        vertical-align: top;\n",
       "    }\n",
       "\n",
       "    .dataframe thead th {\n",
       "        text-align: right;\n",
       "    }\n",
       "</style>\n",
       "<table border=\"1\" class=\"dataframe\">\n",
       "  <thead>\n",
       "    <tr style=\"text-align: right;\">\n",
       "      <th></th>\n",
       "      <th>Year</th>\n",
       "      <th>State</th>\n",
       "      <th>Type</th>\n",
       "      <th>Length</th>\n",
       "      <th>Expense</th>\n",
       "      <th>Value</th>\n",
       "    </tr>\n",
       "  </thead>\n",
       "  <tbody>\n",
       "    <tr>\n",
       "      <th>5</th>\n",
       "      <td>2013</td>\n",
       "      <td>Alabama</td>\n",
       "      <td>Public Out-of-State</td>\n",
       "      <td>2-year</td>\n",
       "      <td>Fees/Tuition</td>\n",
       "      <td>7736</td>\n",
       "    </tr>\n",
       "    <tr>\n",
       "      <th>6</th>\n",
       "      <td>2013</td>\n",
       "      <td>Alabama</td>\n",
       "      <td>Public Out-of-State</td>\n",
       "      <td>4-year</td>\n",
       "      <td>Fees/Tuition</td>\n",
       "      <td>20380</td>\n",
       "    </tr>\n",
       "    <tr>\n",
       "      <th>13</th>\n",
       "      <td>2013</td>\n",
       "      <td>Alaska</td>\n",
       "      <td>Public Out-of-State</td>\n",
       "      <td>2-year</td>\n",
       "      <td>Fees/Tuition</td>\n",
       "      <td>4150</td>\n",
       "    </tr>\n",
       "    <tr>\n",
       "      <th>14</th>\n",
       "      <td>2013</td>\n",
       "      <td>Alaska</td>\n",
       "      <td>Public Out-of-State</td>\n",
       "      <td>4-year</td>\n",
       "      <td>Fees/Tuition</td>\n",
       "      <td>18790</td>\n",
       "    </tr>\n",
       "    <tr>\n",
       "      <th>21</th>\n",
       "      <td>2013</td>\n",
       "      <td>Arizona</td>\n",
       "      <td>Public Out-of-State</td>\n",
       "      <td>2-year</td>\n",
       "      <td>Fees/Tuition</td>\n",
       "      <td>7870</td>\n",
       "    </tr>\n",
       "  </tbody>\n",
       "</table>\n",
       "</div>"
      ],
      "text/plain": [
       "    Year    State                 Type  Length       Expense  Value\n",
       "5   2013  Alabama  Public Out-of-State  2-year  Fees/Tuition   7736\n",
       "6   2013  Alabama  Public Out-of-State  4-year  Fees/Tuition  20380\n",
       "13  2013   Alaska  Public Out-of-State  2-year  Fees/Tuition   4150\n",
       "14  2013   Alaska  Public Out-of-State  4-year  Fees/Tuition  18790\n",
       "21  2013  Arizona  Public Out-of-State  2-year  Fees/Tuition   7870"
      ]
     },
     "execution_count": 8,
     "metadata": {},
     "output_type": "execute_result"
    }
   ],
   "source": [
    "Out_of_state_data.info()\n",
    "Out_of_state_data.head(5)"
   ]
  },
  {
   "cell_type": "markdown",
   "id": "1b0d1294",
   "metadata": {},
   "source": [
    "#### The two dataframes pretty much have the same size, which is great to avoid biasness"
   ]
  },
  {
   "cell_type": "markdown",
   "id": "4c528cdb",
   "metadata": {},
   "source": [
    "### Check for normality"
   ]
  },
  {
   "cell_type": "code",
   "execution_count": 43,
   "id": "1b5aa058",
   "metadata": {},
   "outputs": [
    {
     "data": {
      "image/png": "[encoded data removed]",
      "text/plain": [
       "<Figure size 900x700 with 1 Axes>"
      ]
     },
     "metadata": {},
     "output_type": "display_data"
    }
   ],
   "source": [
    "#1 Plot the histogram and check the skewness and kurtosis \n",
    "plt.figure(figsize=(9,7))\n",
    "plt.hist (In_state_data['Value'], alpha = .5, label='In state')\n",
    "plt.hist(Out_of_state_data['Value'], alpha = .5, label='0ut of state')\n",
    "plt.legend()\n",
    "plt.savefig('histogram')\n",
    "plt.show()"
   ]
  },
  {
   "cell_type": "markdown",
   "id": "4c2ac3b2",
   "metadata": {},
   "source": [
    "#### The distributions of the datas do not  really look normally distributed. But let's check for skewness and kurtosis"
   ]
  },
  {
   "cell_type": "code",
   "execution_count": 10,
   "id": "d2e9bbcf",
   "metadata": {},
   "outputs": [
    {
     "name": "stdout",
     "output_type": "stream",
     "text": [
      "DescribeResult(nobs=846, minmax=(1225, 17083), mean=6317.919621749409, variance=10782687.056253584, skewness=0.8170107071864043, kurtosis=0.019046097144705065)\n",
      "DescribeResult(nobs=897, minmax=(3340, 41963), mean=16327.26867335563, variance=81280018.76590371, skewness=0.4264972130431569, kurtosis=-1.0136903854530785)\n"
     ]
    }
   ],
   "source": [
    "print(stats.describe(In_state_data['Value']))\n",
    "print(stats.describe(Out_of_state_data['Value']))"
   ]
  },
  {
   "cell_type": "markdown",
   "id": "d9feadff",
   "metadata": {},
   "source": [
    "#### Both the values for the skewness and the kurtosis are between -3 and 3. Great! It appears that each is normally distributed."
   ]
  },
  {
   "cell_type": "code",
   "execution_count": null,
   "id": "8a9ee51a",
   "metadata": {},
   "outputs": [],
   "source": []
  },
  {
   "cell_type": "markdown",
   "id": "55e0aa81",
   "metadata": {},
   "source": [
    "Let's recall the two hypotheses:\n",
    "    \n",
    "**H₀:** There is no significant difference between the average cost of undergraduate students in public in-state universities  versus that of public out-of-state.\n",
    "\n",
    "**Ha:** There is a significant difference between the average cost of undergraduate students in public in-state universities  versus that of public out-of-state.\n",
    "\n",
    "\n",
    "Having checked for normality, I can perfrom a ttest between the groups at the two-tail"
   ]
  },
  {
   "cell_type": "markdown",
   "id": "bf94fead",
   "metadata": {},
   "source": [
    "#### Conduct a ttest"
   ]
  },
  {
   "cell_type": "code",
   "execution_count": 11,
   "id": "54679717",
   "metadata": {},
   "outputs": [
    {
     "name": "stdout",
     "output_type": "stream",
     "text": [
      "Ttest_indResult(statistic=-30.443497252772996, pvalue=1.4407205749674063e-163)\n"
     ]
    }
   ],
   "source": [
    "print(stats.ttest_ind(In_state_data['Value'], Out_of_state_data['Value']))"
   ]
  },
  {
   "cell_type": "markdown",
   "id": "26eeac9b",
   "metadata": {},
   "source": [
    "The result of the ttest is quite interesting. The very small pvalue (less than 0.05) and the very large value of the ttest statistic show that the two groups are significant different. If so, on average how much can be that difference and how sure are we about that difference?"
   ]
  },
  {
   "cell_type": "code",
   "execution_count": 44,
   "id": "79bd6c94",
   "metadata": {},
   "outputs": [],
   "source": [
    "### Confidence interval"
   ]
  },
  {
   "cell_type": "code",
   "execution_count": 45,
   "id": "0302dec2",
   "metadata": {},
   "outputs": [
    {
     "name": "stdout",
     "output_type": "stream",
     "text": [
      "The difference in means at the 95% confidence interval (two-tail) is between 9379.219967785079 and 10639.47813542736.\n",
      "6317.919621749409\n"
     ]
    }
   ],
   "source": [
    "# Confidence interval\n",
    "\n",
    "\n",
    "def get_95_ci(array_1, array_2):\n",
    "    sample_1_n = array_1.shape[0]\n",
    "    sample_2_n = array_2.shape[0]\n",
    "    sample_1_mean = array_1.mean()\n",
    "    sample_2_mean = array_2.mean()\n",
    "    sample_1_var = array_1.var()\n",
    "    sample_2_var = array_2.var()\n",
    "    mean_difference = sample_2_mean - sample_1_mean\n",
    "    std_err_difference = math.sqrt((sample_1_var/sample_1_n)+(sample_2_var/sample_2_n))\n",
    "    margin_of_error = 1.96 * std_err_difference\n",
    "    ci_lower = mean_difference - margin_of_error\n",
    "    ci_upper = mean_difference + margin_of_error\n",
    "    return(\"The difference in means at the 95% confidence interval (two-tail) is between \"+str(ci_lower)+\" and \"+str(ci_upper)+\".\")\n",
    "\n",
    "print(get_95_ci(In_state_data['Value'], Out_of_state_data['Value']))\n",
    "\n",
    "# what is the current mean price if in-state universities\n",
    "print(In_state_data['Value'].mean())"
   ]
  },
  {
   "cell_type": "markdown",
   "id": "d951ca58",
   "metadata": {},
   "source": [
    "Visualizing the difference in means with a point plot"
   ]
  },
  {
   "cell_type": "code",
   "execution_count": 46,
   "id": "0585bbb6",
   "metadata": {},
   "outputs": [
    {
     "data": {
      "image/png": "[encoded data removed]",
      "text/plain": [
       "<Figure size 640x480 with 1 Axes>"
      ]
     },
     "metadata": {},
     "output_type": "display_data"
    }
   ],
   "source": [
    "import seaborn as sns\n",
    "\n",
    "g = sns.pointplot(data=[In_state_data['Value'],\n",
    "                        Out_of_state_data['Value']], join=False)\n",
    "                        \n",
    "g.set(xticklabels = ['Public_In_state', 'Public_Out_of_state'])\n",
    "plt.savefig('poinplot')\n",
    "plt.show()"
   ]
  },
  {
   "cell_type": "markdown",
   "id": "3b1ffa54",
   "metadata": {},
   "source": [
    "#### What can explain this huge difference, since all universities we are dealing with are public. What makes public out of state universities so expensive compared to public in-state universities? Our intuitive answer might be because public out of state students do not pay taxes and then are charged more than those wo do pay taxes.  We can't truly prove this assumption using the dataset provided, but adding another variable to the data could provide compelling evidence for it."
   ]
  },
  {
   "cell_type": "code",
   "execution_count": 48,
   "id": "5557b868",
   "metadata": {},
   "outputs": [
    {
     "name": "stdout",
     "output_type": "stream",
     "text": [
      "Defaulting to user installation because normal site-packages is not writeable\n",
      "\u001b[33mWARNING: Retrying (Retry(total=4, connect=None, read=None, redirect=None, status=None)) after connection broken by 'NewConnectionError('<pip._vendor.urllib3.connection.HTTPSConnection object at 0x7f7d34a49b70>: Failed to establish a new connection: [Errno -3] Temporary failure in name resolution')': /simple/plotly/\u001b[0m\u001b[33m\n",
      "\u001b[0m\u001b[33mWARNING: Retrying (Retry(total=3, connect=None, read=None, redirect=None, status=None)) after connection broken by 'NewConnectionError('<pip._vendor.urllib3.connection.HTTPSConnection object at 0x7f7d34a4a2c0>: Failed to establish a new connection: [Errno -3] Temporary failure in name resolution')': /simple/plotly/\u001b[0m\u001b[33m\n",
      "\u001b[0m\u001b[33mWARNING: Retrying (Retry(total=2, connect=None, read=None, redirect=None, status=None)) after connection broken by 'NewConnectionError('<pip._vendor.urllib3.connection.HTTPSConnection object at 0x7f7d34a4a5c0>: Failed to establish a new connection: [Errno -3] Temporary failure in name resolution')': /simple/plotly/\u001b[0m\u001b[33m\n",
      "\u001b[0m\u001b[33mWARNING: Retrying (Retry(total=1, connect=None, read=None, redirect=None, status=None)) after connection broken by 'NewConnectionError('<pip._vendor.urllib3.connection.HTTPSConnection object at 0x7f7d34a4a770>: Failed to establish a new connection: [Errno -3] Temporary failure in name resolution')': /simple/plotly/\u001b[0m\u001b[33m\n",
      "\u001b[0m\u001b[33mWARNING: Retrying (Retry(total=0, connect=None, read=None, redirect=None, status=None)) after connection broken by 'NewConnectionError('<pip._vendor.urllib3.connection.HTTPSConnection object at 0x7f7d34a4a920>: Failed to establish a new connection: [Errno -3] Temporary failure in name resolution')': /simple/plotly/\u001b[0m\u001b[33m\n",
      "\u001b[0mCollecting plotly\n",
      "  Downloading plotly-5.15.0-py2.py3-none-any.whl (15.5 MB)\n",
      "\u001b[2K     \u001b[38;2;249;38;114m━━━━━━━━━━━━━━━━━━━━━━━\u001b[0m\u001b[38;5;237m╺\u001b[0m\u001b[38;5;237m━━━━━━━━━━━━━━━━\u001b[0m \u001b[32m9.1/15.5 MB\u001b[0m \u001b[31m770.5 kB/s\u001b[0m eta \u001b[36m0:00:09\u001b[0m:09\u001b[0m\n",
      "\u001b[?25h\u001b[31mERROR: Exception:\n",
      "Traceback (most recent call last):\n",
      "  File \"/usr/local/lib/python3.10/dist-packages/pip/_vendor/urllib3/response.py\", line 437, in _error_catcher\n",
      "    yield\n",
      "  File \"/usr/local/lib/python3.10/dist-packages/pip/_vendor/urllib3/response.py\", line 560, in read\n",
      "    data = self._fp_read(amt) if not fp_closed else b\"\"\n",
      "  File \"/usr/local/lib/python3.10/dist-packages/pip/_vendor/urllib3/response.py\", line 526, in _fp_read\n",
      "    return self._fp.read(amt) if amt is not None else self._fp.read()\n",
      "  File \"/usr/local/lib/python3.10/dist-packages/pip/_vendor/cachecontrol/filewrapper.py\", line 90, in read\n",
      "    data = self.__fp.read(amt)\n",
      "  File \"/usr/lib/python3.10/http/client.py\", line 465, in read\n",
      "    s = self.fp.read(amt)\n",
      "  File \"/usr/lib/python3.10/socket.py\", line 705, in readinto\n",
      "    return self._sock.recv_into(b)\n",
      "  File \"/usr/lib/python3.10/ssl.py\", line 1274, in recv_into\n",
      "    return self.read(nbytes, buffer)\n",
      "  File \"/usr/lib/python3.10/ssl.py\", line 1130, in read\n",
      "    return self._sslobj.read(len, buffer)\n",
      "TimeoutError: The read operation timed out\n",
      "\n",
      "During handling of the above exception, another exception occurred:\n",
      "\n",
      "Traceback (most recent call last):\n",
      "  File \"/usr/local/lib/python3.10/dist-packages/pip/_internal/cli/base_command.py\", line 160, in exc_logging_wrapper\n",
      "    status = run_func(*args)\n",
      "  File \"/usr/local/lib/python3.10/dist-packages/pip/_internal/cli/req_command.py\", line 247, in wrapper\n",
      "    return func(self, options, args)\n",
      "  File \"/usr/local/lib/python3.10/dist-packages/pip/_internal/commands/install.py\", line 400, in run\n",
      "    requirement_set = resolver.resolve(\n",
      "  File \"/usr/local/lib/python3.10/dist-packages/pip/_internal/resolution/resolvelib/resolver.py\", line 92, in resolve\n",
      "    result = self._result = resolver.resolve(\n",
      "  File \"/usr/local/lib/python3.10/dist-packages/pip/_vendor/resolvelib/resolvers.py\", line 481, in resolve\n",
      "    state = resolution.resolve(requirements, max_rounds=max_rounds)\n",
      "  File \"/usr/local/lib/python3.10/dist-packages/pip/_vendor/resolvelib/resolvers.py\", line 348, in resolve\n",
      "    self._add_to_criteria(self.state.criteria, r, parent=None)\n",
      "  File \"/usr/local/lib/python3.10/dist-packages/pip/_vendor/resolvelib/resolvers.py\", line 172, in _add_to_criteria\n",
      "    if not criterion.candidates:\n",
      "  File \"/usr/local/lib/python3.10/dist-packages/pip/_vendor/resolvelib/structs.py\", line 151, in __bool__\n",
      "    return bool(self._sequence)\n",
      "  File \"/usr/local/lib/python3.10/dist-packages/pip/_internal/resolution/resolvelib/found_candidates.py\", line 155, in __bool__\n",
      "    return any(self)\n",
      "  File \"/usr/local/lib/python3.10/dist-packages/pip/_internal/resolution/resolvelib/found_candidates.py\", line 143, in <genexpr>\n",
      "    return (c for c in iterator if id(c) not in self._incompatible_ids)\n",
      "  File \"/usr/local/lib/python3.10/dist-packages/pip/_internal/resolution/resolvelib/found_candidates.py\", line 47, in _iter_built\n",
      "    candidate = func()\n",
      "  File \"/usr/local/lib/python3.10/dist-packages/pip/_internal/resolution/resolvelib/factory.py\", line 206, in _make_candidate_from_link\n",
      "    self._link_candidate_cache[link] = LinkCandidate(\n",
      "  File \"/usr/local/lib/python3.10/dist-packages/pip/_internal/resolution/resolvelib/candidates.py\", line 297, in __init__\n",
      "    super().__init__(\n",
      "  File \"/usr/local/lib/python3.10/dist-packages/pip/_internal/resolution/resolvelib/candidates.py\", line 162, in __init__\n",
      "    self.dist = self._prepare()\n",
      "  File \"/usr/local/lib/python3.10/dist-packages/pip/_internal/resolution/resolvelib/candidates.py\", line 231, in _prepare\n",
      "    dist = self._prepare_distribution()\n",
      "  File \"/usr/local/lib/python3.10/dist-packages/pip/_internal/resolution/resolvelib/candidates.py\", line 308, in _prepare_distribution\n",
      "    return preparer.prepare_linked_requirement(self._ireq, parallel_builds=True)\n",
      "  File \"/usr/local/lib/python3.10/dist-packages/pip/_internal/operations/prepare.py\", line 491, in prepare_linked_requirement\n",
      "    return self._prepare_linked_requirement(req, parallel_builds)\n",
      "  File \"/usr/local/lib/python3.10/dist-packages/pip/_internal/operations/prepare.py\", line 536, in _prepare_linked_requirement\n",
      "    local_file = unpack_url(\n",
      "  File \"/usr/local/lib/python3.10/dist-packages/pip/_internal/operations/prepare.py\", line 166, in unpack_url\n",
      "    file = get_http_url(\n",
      "  File \"/usr/local/lib/python3.10/dist-packages/pip/_internal/operations/prepare.py\", line 107, in get_http_url\n",
      "    from_path, content_type = download(link, temp_dir.path)\n",
      "  File \"/usr/local/lib/python3.10/dist-packages/pip/_internal/network/download.py\", line 147, in __call__\n",
      "    for chunk in chunks:\n",
      "  File \"/usr/local/lib/python3.10/dist-packages/pip/_internal/cli/progress_bars.py\", line 53, in _rich_progress_bar\n",
      "    for chunk in iterable:\n",
      "  File \"/usr/local/lib/python3.10/dist-packages/pip/_internal/network/utils.py\", line 63, in response_chunks\n",
      "    for chunk in response.raw.stream(\n",
      "  File \"/usr/local/lib/python3.10/dist-packages/pip/_vendor/urllib3/response.py\", line 621, in stream\n",
      "    data = self.read(amt=amt, decode_content=decode_content)\n",
      "  File \"/usr/local/lib/python3.10/dist-packages/pip/_vendor/urllib3/response.py\", line 559, in read\n",
      "    with self._error_catcher():\n",
      "  File \"/usr/lib/python3.10/contextlib.py\", line 153, in __exit__\n",
      "    self.gen.throw(typ, value, traceback)\n",
      "  File \"/usr/local/lib/python3.10/dist-packages/pip/_vendor/urllib3/response.py\", line 442, in _error_catcher\n",
      "    raise ReadTimeoutError(self._pool, None, \"Read timed out.\")\n",
      "pip._vendor.urllib3.exceptions.ReadTimeoutError: HTTPSConnectionPool(host='files.pythonhosted.org', port=443): Read timed out.\u001b[0m\u001b[31m\n",
      "\u001b[0m\u001b[33mWARNING: There was an error checking the latest version of pip.\u001b[0m\u001b[33m\n",
      "\u001b[0mNote: you may need to restart the kernel to use updated packages.\n"
     ]
    }
   ],
   "source": []
  },
  {
   "cell_type": "code",
   "execution_count": null,
   "id": "2fbf9a69",
   "metadata": {},
   "outputs": [],
   "source": []
  }
 ],
 "metadata": {
  "kernelspec": {
   "display_name": "Python 3 (ipykernel)",
   "language": "python",
   "name": "python3"
  },
  "language_info": {
   "codemirror_mode": {
    "name": "ipython",
    "version": 3
   },
   "file_extension": ".py",
   "mimetype": "text/x-python",
   "name": "python",
   "nbconvert_exporter": "python",
   "pygments_lexer": "ipython3",
   "version": "3.10.6"
  }
 },
 "nbformat": 4,
 "nbformat_minor": 5
}
