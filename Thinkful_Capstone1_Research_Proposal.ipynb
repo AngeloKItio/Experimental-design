{
 "cells": [
  {
   "cell_type": "markdown",
   "id": "54e93a9c",
   "metadata": {},
   "source": [
    "# <center>RESEARCH PROPOSAL</center>\n",
    "\n",
    "  Most individuals continue their education after high school by enrolling in colleges. Undergraduate students are constantly faced with expenses such as tuition, fees, and room and board costs. The data set I study provides a state-by-state breakdown of the average cost of undergraduate education in the United States. This is dependent on a number of variables, including the state, the type of university (private, in-state or out-of-state), the program's length, and others. If a student's status falls under one of these conditions, the data set will provide an overview of the amount that they should expect to pay. Due to this, our research is significant for both existing and upcoming undergraduate students, as well as for their parents and other interested parties.\n",
    "\n",
    "The dataset, which has 3548 entries and 6 columns with no missing values can be accessed with the  following link: \n",
    "[Average cost of undergraduate student by state USA](https://www.kaggle.com/datasets/bhargavchirumamilla/average-cost-of-undergraduate-student-by-state-usa/versions/1?resource=download) \n",
    "\n",
    "Knowing naturally that: generally across the USA, private universities cost more than public universities, I would therefore concentrate on the average costs (fees/Tuition) of public universities, depending on whether the student is at a public-in state or public out of state university.\n",
    "I want to utilize statistical techniques to determine whether there is a significant difference between public in-state institutions and public out-of-state universities in terms of the average cost of undergraduate students. This brings up two hypotheses:\n",
    "    \n",
    "\n",
    "**H₀:** There is no significant difference between the average cost of undergraduate students in public in-state universities  versus that of public out-of-state.\n",
    "\n",
    "**Ha:** There is a significant difference between the average cost of undergraduate students in public in-state universities  versus that of public out-of-state.\n",
    "\n",
    "\n",
    "I will firstly produce a data set for this study that only includes records with \"Fees/Tuition\" as the type of expense. In addition, I'll make two DataFrames, one with all the data for public in-state universities and the other with public out-of-state universities.\n",
    "\n",
    "I will start the analysis by checking the hypotheses fo the t-test. If the distributions of average cost appear to be close to normally distributed based on their histogram, skewness, and kurtosis, I will conduct an independent samples t-test between the groups at the two-tail, 95% confidence interval. If not, I will conduct a non-parametric test between the groups.\n",
    "\n",
    "I will finish up my analysis, and then I'll decide whether or not to reject the null hypothesis. \n",
    "\n",
    "Students frequently find that their \"dream\" universities are not located in the states where they live. If picking out-of-state public universities over those in-state would pay off for students and even parents, the answer to this research question will provide some useful information.\n",
    " "
   ]
  },
  {
   "cell_type": "code",
   "execution_count": null,
   "id": "7ea2ff7c",
   "metadata": {},
   "outputs": [],
   "source": []
  }
 ],
 "metadata": {
  "kernelspec": {
   "display_name": "Python 3 (ipykernel)",
   "language": "python",
   "name": "python3"
  },
  "language_info": {
   "codemirror_mode": {
    "name": "ipython",
    "version": 3
   },
   "file_extension": ".py",
   "mimetype": "text/x-python",
   "name": "python",
   "nbconvert_exporter": "python",
   "pygments_lexer": "ipython3",
   "version": "3.10.12"
  }
 },
 "nbformat": 4,
 "nbformat_minor": 5
}
